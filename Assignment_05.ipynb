{
  "nbformat": 4,
  "nbformat_minor": 0,
  "metadata": {
    "colab": {
      "provenance": []
    },
    "kernelspec": {
      "name": "python3",
      "display_name": "Python 3"
    },
    "language_info": {
      "name": "python"
    }
  },
  "cells": [
    {
      "cell_type": "code",
      "source": [
        "import pandas as pd\n",
        "url='/content/drive/MyDrive/housing.csv'\n"
      ],
      "metadata": {
        "id": "xu044vp2cV8Z"
      },
      "execution_count": 64,
      "outputs": []
    },
    {
      "cell_type": "code",
      "source": [
        "housing_data=pd.read_csv(url)\n",
        "data_description=housing_data.describe()\n",
        "print(\"a) Data Description:\")\n",
        "print(data_description)"
      ],
      "metadata": {
        "colab": {
          "base_uri": "https://localhost:8080/"
        },
        "id": "ZN-w0EYhfYM_",
        "outputId": "55f42eec-0762-417b-c0ea-7bf09dbce383"
      },
      "execution_count": 65,
      "outputs": [
        {
          "output_type": "stream",
          "name": "stdout",
          "text": [
            "a) Data Description:\n",
            "          longitude      latitude  housing_median_age   total_rooms  \\\n",
            "count  20640.000000  20640.000000        20640.000000  20640.000000   \n",
            "mean    -119.569704     35.631861           28.639486   2635.763081   \n",
            "std        2.003532      2.135952           12.585558   2181.615252   \n",
            "min     -124.350000     32.540000            1.000000      2.000000   \n",
            "25%     -121.800000     33.930000           18.000000   1447.750000   \n",
            "50%     -118.490000     34.260000           29.000000   2127.000000   \n",
            "75%     -118.010000     37.710000           37.000000   3148.000000   \n",
            "max     -114.310000     41.950000           52.000000  39320.000000   \n",
            "\n",
            "       total_bedrooms    population    households  median_income  \\\n",
            "count    20433.000000  20640.000000  20640.000000   20640.000000   \n",
            "mean       537.870553   1425.476744    499.539680       3.870671   \n",
            "std        421.385070   1132.462122    382.329753       1.899822   \n",
            "min          1.000000      3.000000      1.000000       0.499900   \n",
            "25%        296.000000    787.000000    280.000000       2.563400   \n",
            "50%        435.000000   1166.000000    409.000000       3.534800   \n",
            "75%        647.000000   1725.000000    605.000000       4.743250   \n",
            "max       6445.000000  35682.000000   6082.000000      15.000100   \n",
            "\n",
            "       median_house_value  \n",
            "count        20640.000000  \n",
            "mean        206855.816909  \n",
            "std         115395.615874  \n",
            "min          14999.000000  \n",
            "25%         119600.000000  \n",
            "50%         179700.000000  \n",
            "75%         264725.000000  \n",
            "max         500001.000000  \n"
          ]
        }
      ]
    },
    {
      "cell_type": "code",
      "execution_count": 66,
      "metadata": {
        "colab": {
          "base_uri": "https://localhost:8080/"
        },
        "id": "O1d7i3I0b8Bu",
        "outputId": "67ddbd6c-7e0e-46dc-c1d7-c5200c19f9da"
      },
      "outputs": [
        {
          "output_type": "stream",
          "name": "stdout",
          "text": [
            "\n",
            "b) Data Types:\n",
            "longitude             float64\n",
            "latitude              float64\n",
            "housing_median_age    float64\n",
            "total_rooms           float64\n",
            "total_bedrooms        float64\n",
            "population            float64\n",
            "households            float64\n",
            "median_income         float64\n",
            "median_house_value    float64\n",
            "ocean_proximity        object\n",
            "dtype: object\n",
            "\n",
            "Shape of the Data:\n",
            "(20640, 10)\n"
          ]
        }
      ],
      "source": [
        "data_types=housing_data.dtypes\n",
        "data_shape=housing_data.shape\n",
        "print(\"\\nb) Data Types:\")\n",
        "print(data_types)\n",
        "print(\"\\nShape of the Data:\")\n",
        "print(data_shape)\n"
      ]
    },
    {
      "cell_type": "code",
      "source": [
        "# Finding null values\n",
        "null_values = housing_data.isnull().sum()\n",
        "\n",
        "# Filling null values with '0' or mean\n",
        "housing_data_filled = housing_data.fillna(0)  # Use fillna(housing_data.mean()) if you want to fill with mean values\n",
        "\n",
        "# Displaying null values\n",
        "print(\"\\nc) Null Values:\")\n",
        "print(null_values)\n",
        "\n",
        "# Displaying filled data\n",
        "print(\"\\nData after filling null values:\")\n",
        "print(housing_data_filled)\n"
      ],
      "metadata": {
        "colab": {
          "base_uri": "https://localhost:8080/"
        },
        "id": "HJJGb4Vkcrso",
        "outputId": "3ca9d1c2-a85e-40dd-ec08-d5f0bf9efe07"
      },
      "execution_count": 67,
      "outputs": [
        {
          "output_type": "stream",
          "name": "stdout",
          "text": [
            "\n",
            "c) Null Values:\n",
            "longitude               0\n",
            "latitude                0\n",
            "housing_median_age      0\n",
            "total_rooms             0\n",
            "total_bedrooms        207\n",
            "population              0\n",
            "households              0\n",
            "median_income           0\n",
            "median_house_value      0\n",
            "ocean_proximity         0\n",
            "dtype: int64\n",
            "\n",
            "Data after filling null values:\n",
            "       longitude  latitude  housing_median_age  total_rooms  total_bedrooms  \\\n",
            "0        -122.23     37.88                41.0        880.0           129.0   \n",
            "1        -122.22     37.86                21.0       7099.0          1106.0   \n",
            "2        -122.24     37.85                52.0       1467.0           190.0   \n",
            "3        -122.25     37.85                52.0       1274.0           235.0   \n",
            "4        -122.25     37.85                52.0       1627.0           280.0   \n",
            "...          ...       ...                 ...          ...             ...   \n",
            "20635    -121.09     39.48                25.0       1665.0           374.0   \n",
            "20636    -121.21     39.49                18.0        697.0           150.0   \n",
            "20637    -121.22     39.43                17.0       2254.0           485.0   \n",
            "20638    -121.32     39.43                18.0       1860.0           409.0   \n",
            "20639    -121.24     39.37                16.0       2785.0           616.0   \n",
            "\n",
            "       population  households  median_income  median_house_value  \\\n",
            "0           322.0       126.0         8.3252            452600.0   \n",
            "1          2401.0      1138.0         8.3014            358500.0   \n",
            "2           496.0       177.0         7.2574            352100.0   \n",
            "3           558.0       219.0         5.6431            341300.0   \n",
            "4           565.0       259.0         3.8462            342200.0   \n",
            "...           ...         ...            ...                 ...   \n",
            "20635       845.0       330.0         1.5603             78100.0   \n",
            "20636       356.0       114.0         2.5568             77100.0   \n",
            "20637      1007.0       433.0         1.7000             92300.0   \n",
            "20638       741.0       349.0         1.8672             84700.0   \n",
            "20639      1387.0       530.0         2.3886             89400.0   \n",
            "\n",
            "      ocean_proximity  \n",
            "0            NEAR BAY  \n",
            "1            NEAR BAY  \n",
            "2            NEAR BAY  \n",
            "3            NEAR BAY  \n",
            "4            NEAR BAY  \n",
            "...               ...  \n",
            "20635          INLAND  \n",
            "20636          INLAND  \n",
            "20637          INLAND  \n",
            "20638          INLAND  \n",
            "20639          INLAND  \n",
            "\n",
            "[20640 rows x 10 columns]\n"
          ]
        }
      ]
    },
    {
      "cell_type": "code",
      "source": [
        "print('Question 2')"
      ],
      "metadata": {
        "colab": {
          "base_uri": "https://localhost:8080/"
        },
        "id": "7RY1PJcPdC4F",
        "outputId": "373c3d10-7fd9-4b82-8f8b-3c0501b5741e"
      },
      "execution_count": 68,
      "outputs": [
        {
          "output_type": "stream",
          "name": "stdout",
          "text": [
            "Question 2\n"
          ]
        }
      ]
    },
    {
      "cell_type": "code",
      "source": [
        "features_without_categorical=features.drop('ocean_proximity',axis=1)\n",
        "print(\"\\nb) Features without 'ocean_proximity':\")\n",
        "print(features_without_categorical)"
      ],
      "metadata": {
        "colab": {
          "base_uri": "https://localhost:8080/"
        },
        "id": "czdSWv4tdL0R",
        "outputId": "a56e0708-5681-4b0f-88db-3d99a82f03c3"
      },
      "execution_count": 69,
      "outputs": [
        {
          "output_type": "stream",
          "name": "stdout",
          "text": [
            "\n",
            "b) Features without 'ocean_proximity':\n",
            "       longitude  latitude  housing_median_age  total_rooms  total_bedrooms  \\\n",
            "0        -122.23     37.88                41.0        880.0           129.0   \n",
            "1        -122.22     37.86                21.0       7099.0          1106.0   \n",
            "2        -122.24     37.85                52.0       1467.0           190.0   \n",
            "3        -122.25     37.85                52.0       1274.0           235.0   \n",
            "4        -122.25     37.85                52.0       1627.0           280.0   \n",
            "...          ...       ...                 ...          ...             ...   \n",
            "20635    -121.09     39.48                25.0       1665.0           374.0   \n",
            "20636    -121.21     39.49                18.0        697.0           150.0   \n",
            "20637    -121.22     39.43                17.0       2254.0           485.0   \n",
            "20638    -121.32     39.43                18.0       1860.0           409.0   \n",
            "20639    -121.24     39.37                16.0       2785.0           616.0   \n",
            "\n",
            "       population  households  median_income  \n",
            "0           322.0       126.0         8.3252  \n",
            "1          2401.0      1138.0         8.3014  \n",
            "2           496.0       177.0         7.2574  \n",
            "3           558.0       219.0         5.6431  \n",
            "4           565.0       259.0         3.8462  \n",
            "...           ...         ...            ...  \n",
            "20635       845.0       330.0         1.5603  \n",
            "20636       356.0       114.0         2.5568  \n",
            "20637      1007.0       433.0         1.7000  \n",
            "20638       741.0       349.0         1.8672  \n",
            "20639      1387.0       530.0         2.3886  \n",
            "\n",
            "[20640 rows x 8 columns]\n"
          ]
        }
      ]
    },
    {
      "cell_type": "code",
      "source": [
        "\n",
        "from sklearn.preprocessing import MinMaxScaler\n",
        "scaler = MinMaxScaler()\n",
        "features_normalized = scaler.fit_transform(features_without_categorical)\n",
        "print(\"\\nb) Normalized Features:\")\n",
        "print(features_normalized)\n"
      ],
      "metadata": {
        "colab": {
          "base_uri": "https://localhost:8080/"
        },
        "id": "y31LPZ9Zhj2g",
        "outputId": "16a88272-ba40-4b1e-ae5e-22c00fc90f6d"
      },
      "execution_count": 70,
      "outputs": [
        {
          "output_type": "stream",
          "name": "stdout",
          "text": [
            "\n",
            "b) Normalized Features:\n",
            "[[0.21115538 0.5674814  0.78431373 ... 0.00894083 0.02055583 0.53966842]\n",
            " [0.21215139 0.565356   0.39215686 ... 0.0672104  0.18697583 0.53802706]\n",
            " [0.21015936 0.5642933  1.         ... 0.01381765 0.02894261 0.46602805]\n",
            " ...\n",
            " [0.31175299 0.73219979 0.31372549 ... 0.0281398  0.07104095 0.08276438]\n",
            " [0.30179283 0.73219979 0.33333333 ... 0.02068444 0.05722743 0.09429525]\n",
            " [0.30976096 0.72582359 0.29411765 ... 0.03879032 0.08699227 0.13025338]]\n"
          ]
        }
      ]
    },
    {
      "cell_type": "code",
      "source": [
        "from sklearn.model_selection import train_test_split\n",
        "X_train, X_test, y_train, y_test=train_test_split(features_without_categorical, target, test_size=0.2, random_state=42)\n",
        "print(\"\\nc) Shapes of Train and Test Sets:\")\n",
        "print(\"X_train:\", X_train.shape)\n",
        "print(\"X_test:\", X_test.shape)\n",
        "print(\"y_train:\", y_train.shape)\n",
        "print(\"y_test:\", y_test.shape)\n"
      ],
      "metadata": {
        "colab": {
          "base_uri": "https://localhost:8080/"
        },
        "id": "JIYYbPb-h8dM",
        "outputId": "22e9c86d-e9d9-4e0a-ed95-cad858870493"
      },
      "execution_count": 71,
      "outputs": [
        {
          "output_type": "stream",
          "name": "stdout",
          "text": [
            "\n",
            "c) Shapes of Train and Test Sets:\n",
            "X_train: (16512, 8)\n",
            "X_test: (4128, 8)\n",
            "y_train: (16512,)\n",
            "y_test: (4128,)\n"
          ]
        }
      ]
    },
    {
      "cell_type": "code",
      "source": [
        "from sklearn.preprocessing import PolynomialFeatures\n",
        "from sklearn.pipeline import make_pipeline\n",
        "from sklearn.impute import SimpleImputer\n",
        "from sklearn.linear_model import LinearRegression\n",
        "from sklearn.metrics import mean_squared_error\n",
        "degree=2\n",
        "model=make_pipeline(SimpleImputer(strategy='mean'),PolynomialFeatures(degree),LinearRegression())\n",
        "model.fit(X_train, y_train)\n",
        "y_pred=model.predict(X_test)\n",
        "mse=mean_squared_error(y_test, y_pred)\n",
        "print(\"\\nd)Mean Squared Error:\")\n",
        "print(mse)\n",
        "print(\"\\nCoefficients:\")\n",
        "print(\"Intercept:\", model.named_steps['linearregression'].intercept_)\n",
        "print(\"Coefficients:\", model.named_steps['linearregression'].coef_)"
      ],
      "metadata": {
        "colab": {
          "base_uri": "https://localhost:8080/"
        },
        "id": "hnoUdM0RnPN2",
        "outputId": "11488ec0-7a4b-4cf3-a634-fa9c7c18cff2"
      },
      "execution_count": 83,
      "outputs": [
        {
          "output_type": "stream",
          "name": "stdout",
          "text": [
            "\n",
            "d)Mean Squared Error:\n",
            "4577249777.096829\n",
            "\n",
            "Coefficients:\n",
            "Intercept: 21852887.48996977\n",
            "Coefficients: [-1.14619477e-03  6.27640172e+05  9.16096606e+05 -7.61523759e+04\n",
            "  9.93827470e+02 -4.85665649e+03  6.84071125e+02 -2.08059166e+03\n",
            " -9.52794662e+05  4.26313561e+03  1.14622991e+04 -9.26963929e+02\n",
            "  1.28469852e+01 -6.56505015e+01  9.83326151e+00 -2.62895084e+01\n",
            " -1.22848904e+04  6.65048666e+03 -1.00609646e+03  1.35005947e+01\n",
            " -7.49859868e+01  1.38616815e+01 -3.17629254e+01 -1.28469846e+04\n",
            "  2.17269237e+01 -1.40432955e-01  2.68495954e+00 -1.31707009e+00\n",
            "  2.75071004e+00  1.15474566e+02 -2.55785550e-03  2.71285664e-02\n",
            " -5.18201811e-03  2.10919807e-02  9.85940511e+00 -1.05782366e-01\n",
            "  5.29491195e-02 -1.36542670e-01 -2.99841603e+01  3.02370085e-03\n",
            " -4.67336167e-02 -4.42724889e+00  9.89302879e-02 -1.83805240e+00\n",
            " -2.51282859e+03]\n"
          ]
        }
      ]
    },
    {
      "cell_type": "code",
      "source": [
        "coefs = model.named_steps['linearregression'].coef_\n",
        "rounded_coefs=[round(coef, 2) for coef in coefs]\n",
        "feature_labels=list(X_train.columns)+[f'feature_{i}' for i in range(len(X_train.columns)+1,len(rounded_coefs))]\n",
        "coefs_dict=dict(zip(feature_labels, rounded_coefs))\n",
        "print(\"\\nd)Mean Squared Error:\")\n",
        "print(mse)\n",
        "print(\"Rounded-off Coefficients:\")\n",
        "for feature, coef in coefs_dict.items():\n",
        "    print(f\"{feature}: {coef}\")\n"
      ],
      "metadata": {
        "id": "zkUXpleStZS6",
        "outputId": "2f6549ac-5e42-43d9-c1ca-6d16acccbf9a",
        "colab": {
          "base_uri": "https://localhost:8080/"
        }
      },
      "execution_count": 85,
      "outputs": [
        {
          "output_type": "stream",
          "name": "stdout",
          "text": [
            "\n",
            "d)Mean Squared Error:\n",
            "4577249777.096829\n",
            "Rounded-off Coefficients:\n",
            "longitude: -0.0\n",
            "latitude: 627640.17\n",
            "housing_median_age: 916096.61\n",
            "total_rooms: -76152.38\n",
            "total_bedrooms: 993.83\n",
            "population: -4856.66\n",
            "households: 684.07\n",
            "median_income: -2080.59\n",
            "feature_9: -952794.66\n",
            "feature_10: 4263.14\n",
            "feature_11: 11462.3\n",
            "feature_12: -926.96\n",
            "feature_13: 12.85\n",
            "feature_14: -65.65\n",
            "feature_15: 9.83\n",
            "feature_16: -26.29\n",
            "feature_17: -12284.89\n",
            "feature_18: 6650.49\n",
            "feature_19: -1006.1\n",
            "feature_20: 13.5\n",
            "feature_21: -74.99\n",
            "feature_22: 13.86\n",
            "feature_23: -31.76\n",
            "feature_24: -12846.98\n",
            "feature_25: 21.73\n",
            "feature_26: -0.14\n",
            "feature_27: 2.68\n",
            "feature_28: -1.32\n",
            "feature_29: 2.75\n",
            "feature_30: 115.47\n",
            "feature_31: -0.0\n",
            "feature_32: 0.03\n",
            "feature_33: -0.01\n",
            "feature_34: 0.02\n",
            "feature_35: 9.86\n",
            "feature_36: -0.11\n",
            "feature_37: 0.05\n",
            "feature_38: -0.14\n",
            "feature_39: -29.98\n",
            "feature_40: 0.0\n",
            "feature_41: -0.05\n",
            "feature_42: -4.43\n",
            "feature_43: 0.1\n",
            "feature_44: -1.84\n"
          ]
        }
      ]
    },
    {
      "cell_type": "code",
      "source": [],
      "metadata": {
        "id": "rMjG4qQqu-yQ"
      },
      "execution_count": null,
      "outputs": []
    }
  ]
}