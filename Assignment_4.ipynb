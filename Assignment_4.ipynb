{
  "nbformat": 4,
  "nbformat_minor": 0,
  "metadata": {
    "colab": {
      "provenance": []
    },
    "kernelspec": {
      "name": "python3",
      "display_name": "Python 3"
    },
    "language_info": {
      "name": "python"
    }
  },
  "cells": [
    {
      "cell_type": "code",
      "source": [
        "def main():\n",
        "    # Define the minmax function to perform the minimax algorithm\n",
        "    def minmax(depth,node_index,maximizing_player,values):\n",
        "        #case-1:depth==3, return current node\n",
        "        if depth==3:\n",
        "            return values[node_index]\n",
        "        # case-2:- If maximizing player, then max value child node is chosen\n",
        "        if maximizing_player:\n",
        "            return max(minmax(depth+1,node_index*2,False,values),\n",
        "                       minmax(depth+1,node_index*2+1,False,values))\n",
        "        # If minimizing player,then min value child node is chosen\n",
        "        else:\n",
        "            return min(minmax(depth+1,node_index*2,True,values),\n",
        "                       minmax(depth+1,node_index*2+1,True,values))\n",
        "    #node values of tree\n",
        "    values=[-1,4,2,6,-3,-5,0,7]\n",
        "    #minmax process from root to max player\n",
        "    print(\"optimal value=\",minmax(0,0,True,values))\n",
        "if __name__ == \"__main__\":\n",
        "    main()"
      ],
      "metadata": {
        "colab": {
          "base_uri": "https://localhost:8080/"
        },
        "id": "cdbRUPIdVXkQ",
        "outputId": "7b22705b-eafa-40cc-e1d7-a4e756f29eb7"
      },
      "execution_count": 34,
      "outputs": [
        {
          "output_type": "stream",
          "name": "stdout",
          "text": [
            "optimal value= 4\n"
          ]
        }
      ]
    },
    {
      "cell_type": "code",
      "source": [
        "def main():\n",
        "    def alphabeta(depth,node_index,maximizing_player,values,alpha,beta):\n",
        "        # Base case: if it is terminal node depth==3, return its value\n",
        "        if depth==3:\n",
        "            return values[node_index]\n",
        "        # If it is max player, max=-ve inf\n",
        "        if maximizing_player:\n",
        "            max_val=-float('inf')\n",
        "            #looping for 2 child nodes\n",
        "            for i in range(0,2):\n",
        "                #Recursion for alphabeta function to get child node\n",
        "                val=alphabeta(depth+1,node_index*2+i,False,values,alpha,beta)\n",
        "                #Updating max\n",
        "                max_val=max(max_val,val)\n",
        "                #Updating alpha\n",
        "                alpha=max(alpha,max_val)\n",
        "                #If beta<=alpha, stop\n",
        "                if beta<=alpha:\n",
        "                    break\n",
        "            return max_val\n",
        "        else:  #If it is the min player, min= +ve inf\n",
        "            min_val=float('inf')\n",
        "            #loop again\n",
        "            for i in range(0,2):\n",
        "                # Recursively for alphabeta to get chiild node\n",
        "                val=alphabeta(depth+1,node_index*2+i,True,values,alpha,beta)\n",
        "                # Updating min\n",
        "                min_val=min(min_val, val)\n",
        "                # Updating beta\n",
        "                beta=min(beta, min_val)\n",
        "                # If beta<=alpha,stop\n",
        "                if beta<=alpha:\n",
        "                    break\n",
        "            return min_val\n",
        "    values=[-1,4,2,6,-3,-5,0,7]\n",
        "    print(\"optimal value=\",alphabeta(0 ,0,True,values,-float('inf'), float('inf')))\n",
        "main()"
      ],
      "metadata": {
        "colab": {
          "base_uri": "https://localhost:8080/"
        },
        "id": "I90d6bpogpZ1",
        "outputId": "35b44477-9b2f-49de-c4d8-72c6d6fc73e4"
      },
      "execution_count": 35,
      "outputs": [
        {
          "output_type": "stream",
          "name": "stdout",
          "text": [
            "optimal value= 4\n"
          ]
        }
      ]
    },
    {
      "cell_type": "code",
      "source": [],
      "metadata": {
        "id": "0bMPJlPyhmCU"
      },
      "execution_count": null,
      "outputs": []
    }
  ]
}