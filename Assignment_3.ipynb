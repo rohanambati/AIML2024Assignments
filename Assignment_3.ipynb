{
  "nbformat": 4,
  "nbformat_minor": 0,
  "metadata": {
    "colab": {
      "provenance": []
    },
    "kernelspec": {
      "name": "python3",
      "display_name": "Python 3"
    },
    "language_info": {
      "name": "python"
    }
  },
  "cells": [
    {
      "cell_type": "code",
      "execution_count": 79,
      "metadata": {
        "id": "kygcU5X_Rh29"
      },
      "outputs": [],
      "source": [
        "from collections import deque"
      ]
    },
    {
      "cell_type": "code",
      "source": [
        "def bfs(graph, start):\n",
        "    visited = set()\n",
        "    queue = deque([start])\n",
        "    visited.add(start)\n",
        "    while queue:\n",
        "        vertex = queue.popleft()\n",
        "        print(vertex, end=' ')\n",
        "        for neighbor in graph[vertex]:\n",
        "            if neighbor not in visited:\n",
        "                queue.append(neighbor)\n",
        "                visited.add(neighbor)"
      ],
      "metadata": {
        "id": "GtQfUcowRl94"
      },
      "execution_count": 80,
      "outputs": []
    },
    {
      "cell_type": "code",
      "source": [
        "graph={\n",
        "    0:[1, 3],1:[0, 2, 3],2:[1, 4, 5],3:[0, 1, 4],4:[2, 3, 5],5:[2, 4]\n",
        "}"
      ],
      "metadata": {
        "id": "doXTqUC9Rqoo"
      },
      "execution_count": 81,
      "outputs": []
    },
    {
      "cell_type": "code",
      "source": [
        "start_vertex = 0\n",
        "print(\"BFS traversal starting from vertex\", start_vertex)\n",
        "bfs(graph, start_vertex)"
      ],
      "metadata": {
        "colab": {
          "base_uri": "https://localhost:8080/"
        },
        "id": "iavFCZN8Rsxm",
        "outputId": "71285f4e-5933-4bde-9aaf-2f66c1b475ff"
      },
      "execution_count": 82,
      "outputs": [
        {
          "output_type": "stream",
          "name": "stdout",
          "text": [
            "BFS traversal starting from vertex 0\n",
            "0 1 3 2 4 5 "
          ]
        }
      ]
    },
    {
      "cell_type": "code",
      "source": [
        "#definition\n",
        "def dfs2(graph, start):\n",
        "    visited = set()\n",
        "    stack = [start]\n",
        "    while stack:\n",
        "        vertex = stack.pop()\n",
        "        if vertex not in visited:\n",
        "            print(vertex, end=' ')\n",
        "            visited.add(vertex)\n",
        "            stack.extend(neighbor for neighbor in graph[vertex] if neighbor not in visited)"
      ],
      "metadata": {
        "id": "nH1qN1qNRxc_"
      },
      "execution_count": 83,
      "outputs": []
    },
    {
      "cell_type": "code",
      "source": [
        "graph={\n",
        "    'A':['B', 'S'],\n",
        "    'B':['A'],\n",
        "    'C':['D', 'E', 'F', 'S'],\n",
        "    'D':['C'],\n",
        "    'E':['C', 'H'],\n",
        "    'F':['C', 'G'],\n",
        "    'G':['F', 'H', 'S'],\n",
        "    'H':['E', 'G'],\n",
        "    'S':['A', 'C', 'G']\n",
        "}"
      ],
      "metadata": {
        "id": "2CNM2VpkR1Up"
      },
      "execution_count": 84,
      "outputs": []
    },
    {
      "cell_type": "code",
      "source": [
        "# Starting vertex and applying DFS with the second implementation\n",
        "start_vertex='A'\n",
        "print(\"DFS traversal starting from vertex\", start_vertex, \":\")\n",
        "dfs2(graph, start_vertex)"
      ],
      "metadata": {
        "colab": {
          "base_uri": "https://localhost:8080/"
        },
        "id": "fDnCOl59R3lU",
        "outputId": "7664cab9-eb83-4ed0-fd08-ec3de0035c45"
      },
      "execution_count": 85,
      "outputs": [
        {
          "output_type": "stream",
          "name": "stdout",
          "text": [
            "DFS traversal starting from vertex A :\n",
            "A S G H E C F D B "
          ]
        }
      ]
    },
    {
      "cell_type": "code",
      "source": [
        "# heuristic function for A* algorithm\n",
        "def heuristic(state):\n",
        "    return np.sum(state!=goal_state)"
      ],
      "metadata": {
        "id": "EZmDNHaLSA1p"
      },
      "execution_count": 86,
      "outputs": []
    },
    {
      "cell_type": "code",
      "source": [
        "# A* algorithm implementation\n",
        "def astar(start_state, goal_state, heuristic):\n",
        "    priority_queue=PriorityQueue()\n",
        "    priority_queue.put((0, Node(start_state)))\n",
        "    while not priority_queue.empty():\n",
        "        _, current_node = priority_queue.get()\n",
        "        if np.array_equal(current_node.state, goal_state):\n",
        "            # Goal state reached, reconstruct path\n",
        "            path = []\n",
        "            while current_node:\n",
        "                path.append(current_node.state)\n",
        "                current_node = current_node.parent\n",
        "            return path[::-1]\n",
        "        for successor_state in get_successors(current_node.state):\n",
        "            new_cost = current_node.g_score + 1\n",
        "            new_node = Node(successor_state, parent=current_node, g_score=new_cost, h_score=heuristic(successor_state))\n",
        "            priority_queue.put((new_node.f_score, new_node))\n",
        "    return None"
      ],
      "metadata": {
        "id": "ZYy5Nq8_roDG"
      },
      "execution_count": 87,
      "outputs": []
    },
    {
      "cell_type": "code",
      "source": [
        "# Call the A* algorithm with the initial and final states\n",
        "result_path=astar(initial_state, goal_state, heuristic)"
      ],
      "metadata": {
        "id": "JVoYxU6bsPYy"
      },
      "execution_count": 88,
      "outputs": []
    },
    {
      "cell_type": "code",
      "source": [
        "# Printing result\n",
        "if result_path is not None:\n",
        "    print(\"Solution found:\")\n",
        "    for state in result_path:\n",
        "        print(state)\n",
        "else:\n",
        "    print(\"Goal state is not reachable.\")"
      ],
      "metadata": {
        "colab": {
          "base_uri": "https://localhost:8080/"
        },
        "id": "VlAzhGnksRwU",
        "outputId": "8b5174d5-b17e-4f23-900d-f1802ad98418"
      },
      "execution_count": 89,
      "outputs": [
        {
          "output_type": "stream",
          "name": "stdout",
          "text": [
            "Solution found:\n",
            "[[2 8 3]\n",
            " [1 6 4]\n",
            " [7 0 5]]\n",
            "[[2 8 3]\n",
            " [1 0 4]\n",
            " [7 6 5]]\n",
            "[[2 0 3]\n",
            " [1 8 4]\n",
            " [7 6 5]]\n",
            "[[0 2 3]\n",
            " [1 8 4]\n",
            " [7 6 5]]\n",
            "[[1 2 3]\n",
            " [0 8 4]\n",
            " [7 6 5]]\n",
            "[[1 2 3]\n",
            " [8 0 4]\n",
            " [7 6 5]]\n"
          ]
        }
      ]
    },
    {
      "cell_type": "code",
      "source": [],
      "metadata": {
        "id": "FMMZeUQasUqg"
      },
      "execution_count": 89,
      "outputs": []
    }
  ]
}